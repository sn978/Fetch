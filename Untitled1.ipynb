{
 "cells": [
  {
   "cell_type": "code",
   "execution_count": 1,
   "id": "2a6aa2d6",
   "metadata": {},
   "outputs": [],
   "source": [
    "import boto3\n",
    "import json\n",
    "import psycopg2\n",
    "from hashlib import md5"
   ]
  },
  {
   "cell_type": "code",
   "execution_count": 2,
   "id": "6cbcdd6d",
   "metadata": {},
   "outputs": [],
   "source": [
    "# AWS SQS configuration\n",
    "queue_url = 'http://localhost:4566/000000000000/login-queue'\n",
    "sqs = boto3.client('sqs', region_name='us-east-2', endpoint_url=queue_url,\n",
    "                   aws_access_key_id='dummy', aws_secret_access_key='dummy')"
   ]
  },
  {
   "cell_type": "code",
   "execution_count": 3,
   "id": "5d73756d",
   "metadata": {},
   "outputs": [],
   "source": [
    "# Postgres configuration\n",
    "conn = psycopg2.connect(\n",
    "    dbname='postgres',\n",
    "    user='postgres', \n",
    "    password='postgres',\n",
    "    host='localhost', \n",
    "    port='5432'\n",
    ")\n",
    "cur = conn.cursor()\n"
   ]
  },
  {
   "cell_type": "code",
   "execution_count": 4,
   "id": "0bf5ee48",
   "metadata": {},
   "outputs": [],
   "source": [
    "def mask_field(value):\n",
    "    # Replace this with your masking logic\n",
    "    return \"MASKED\""
   ]
  },
  {
   "cell_type": "code",
   "execution_count": 5,
   "id": "4a720c74",
   "metadata": {},
   "outputs": [],
   "source": [
    "def main():\n",
    "    # Receive messages from the SQS queue\n",
    "    response = sqs.receive_message(\n",
    "        QueueUrl=queue_url,\n",
    "        MaxNumberOfMessages=1,\n",
    "        VisibilityTimeout=0,\n",
    "        WaitTimeSeconds=0\n",
    "    )\n",
    "\n",
    "    if 'Messages' in response:\n",
    "        message = response['Messages'][0]\n",
    "        body = json.loads(message['Body'])\n",
    "        \n",
    "        # Mask sensitive fields\n",
    "        masked_ip = mask_field(body.get('ip', '0.0.0.0'))\n",
    "        masked_device_id = mask_field(body.get('device_id', '19991'))\n",
    "\n",
    "        # Connect to the database\n",
    "        with conn:\n",
    "            with conn.cursor() as cur:\n",
    "                # Insert the masked data into user_logins table\n",
    "                insert_query = \"\"\"\n",
    "                    INSERT INTO user_logins (user_id, device_type, masked_ip, masked_device_id, locale, app_version, create_date)\n",
    "                    VALUES (%s, %s, %s, %s, %s, %s, NOW())\n",
    "                \"\"\"\n",
    "                cur.execute(insert_query, (\n",
    "                    body['user_id'],\n",
    "                    body['device_type'],\n",
    "                    masked_ip,\n",
    "                    masked_device_id,\n",
    "                    body['locale'],\n",
    "                    int(body['app_version'].replace('.', '')) if body['app_version'] else None\n",
    "                ))\n",
    "                conn.commit()\n",
    "\n",
    "        # Delete the message from the queue after processing\n",
    "        sqs.delete_message(\n",
    "            QueueUrl=queue_url,\n",
    "            ReceiptHandle=message['ReceiptHandle']\n",
    "        )\n",
    "\n",
    "    else:\n",
    "        print('No messages in the queue')\n",
    "\n"
   ]
  },
  {
   "cell_type": "code",
   "execution_count": 6,
   "id": "e9bac4c0",
   "metadata": {},
   "outputs": [],
   "source": [
    "if __name__ == '__main__':\n",
    "    main()"
   ]
  },
  {
   "cell_type": "code",
   "execution_count": null,
   "id": "b312d5ec",
   "metadata": {},
   "outputs": [],
   "source": []
  }
 ],
 "metadata": {
  "kernelspec": {
   "display_name": "Python 3 (ipykernel)",
   "language": "python",
   "name": "python3"
  },
  "language_info": {
   "codemirror_mode": {
    "name": "ipython",
    "version": 3
   },
   "file_extension": ".py",
   "mimetype": "text/x-python",
   "name": "python",
   "nbconvert_exporter": "python",
   "pygments_lexer": "ipython3",
   "version": "3.9.13"
  }
 },
 "nbformat": 4,
 "nbformat_minor": 5
}
