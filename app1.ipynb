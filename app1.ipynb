{
 "cells": [
  {
   "cell_type": "code",
   "execution_count": 1,
   "id": "55fcbe15",
   "metadata": {},
   "outputs": [],
   "source": [
    "import boto3\n",
    "import json\n",
    "import hashlib\n",
    "import psycopg2\n",
    "from hashlib import md5"
   ]
  },
  {
   "cell_type": "code",
   "execution_count": 2,
   "id": "6a6b30df",
   "metadata": {},
   "outputs": [],
   "source": [
    "# AWS SQS configuration\n",
    "queue_url = 'http://localhost:4566/000000000000/login-queue'\n",
    "sqs = boto3.client('sqs', region_name='us-east-2', endpoint_url=queue_url,\n",
    "                   aws_access_key_id='dummy', aws_secret_access_key='dummy')"
   ]
  },
  {
   "cell_type": "code",
   "execution_count": 3,
   "id": "94ae1700",
   "metadata": {},
   "outputs": [],
   "source": [
    "# Postgres configuration\n",
    "conn = psycopg2.connect(\n",
    "    dbname='postgres',\n",
    "    user='postgres', \n",
    "    password='postgres',\n",
    "    host='localhost', \n",
    "    port='5432'\n",
    ")\n",
    "cur = conn.cursor()\n"
   ]
  },
  {
   "cell_type": "code",
   "execution_count": 4,
   "id": "68485d3c",
   "metadata": {},
   "outputs": [
    {
     "name": "stdout",
     "output_type": "stream",
     "text": [
      "{'MessageId': '957d4b3e-ddea-4928-b444-f32f994929e3', 'ReceiptHandle': 'NGIyMGU3ODgtYTA5Yi00MDg0LWEyYzQtNjQ2MzA1ZDZjMTEyIGFybjphd3M6c3FzOnVzLWVhc3QtMTowMDAwMDAwMDAwMDA6bG9naW4tcXVldWUgOTU3ZDRiM2UtZGRlYS00OTI4LWI0NDQtZjMyZjk5NDkyOWUzIDE2OTIzMTYzNTQuNzM1NTYzNQ==', 'MD5OfBody': '32365e026658d33521484837856cc808', 'Body': '{\"foo\": \"oops_wrong_msg_type\", \"bar\": \"123\"}'}\n",
      "46bcb8f7477c1c33cf6dd9dd5c8045a3\n",
      "f1f17934834ae2613699701054ef9684\n"
     ]
    },
    {
     "ename": "KeyError",
     "evalue": "'user_id'",
     "output_type": "error",
     "traceback": [
      "\u001b[1;31m---------------------------------------------------------------------------\u001b[0m",
      "\u001b[1;31mKeyError\u001b[0m                                  Traceback (most recent call last)",
      "\u001b[1;32m~\\AppData\\Local\\Temp\\ipykernel_22448\\39636090.py\u001b[0m in \u001b[0;36m<module>\u001b[1;34m\u001b[0m\n\u001b[0;32m     49\u001b[0m \u001b[1;33m\u001b[0m\u001b[0m\n\u001b[0;32m     50\u001b[0m \u001b[1;32mif\u001b[0m \u001b[0m__name__\u001b[0m \u001b[1;33m==\u001b[0m \u001b[1;34m\"__main__\"\u001b[0m\u001b[1;33m:\u001b[0m\u001b[1;33m\u001b[0m\u001b[1;33m\u001b[0m\u001b[0m\n\u001b[1;32m---> 51\u001b[1;33m     \u001b[0mmain\u001b[0m\u001b[1;33m(\u001b[0m\u001b[1;33m)\u001b[0m\u001b[1;33m\u001b[0m\u001b[1;33m\u001b[0m\u001b[0m\n\u001b[0m",
      "\u001b[1;32m~\\AppData\\Local\\Temp\\ipykernel_22448\\39636090.py\u001b[0m in \u001b[0;36mmain\u001b[1;34m()\u001b[0m\n\u001b[0;32m     30\u001b[0m                     \"\"\"\n\u001b[0;32m     31\u001b[0m                     cur.execute(insert_query, (\n\u001b[1;32m---> 32\u001b[1;33m                         \u001b[0mbody\u001b[0m\u001b[1;33m[\u001b[0m\u001b[1;34m'user_id'\u001b[0m\u001b[1;33m]\u001b[0m\u001b[1;33m,\u001b[0m\u001b[1;33m\u001b[0m\u001b[1;33m\u001b[0m\u001b[0m\n\u001b[0m\u001b[0;32m     33\u001b[0m                         \u001b[0mbody\u001b[0m\u001b[1;33m[\u001b[0m\u001b[1;34m'device_type'\u001b[0m\u001b[1;33m]\u001b[0m\u001b[1;33m,\u001b[0m\u001b[1;33m\u001b[0m\u001b[1;33m\u001b[0m\u001b[0m\n\u001b[0;32m     34\u001b[0m                         \u001b[0mmasked_ip\u001b[0m\u001b[1;33m,\u001b[0m\u001b[1;33m\u001b[0m\u001b[1;33m\u001b[0m\u001b[0m\n",
      "\u001b[1;31mKeyError\u001b[0m: 'user_id'"
     ]
    }
   ],
   "source": [
    "def main():\n",
    "    # Receive messages from the SQS queue\n",
    "    response = sqs.receive_message(\n",
    "        QueueUrl=queue_url,\n",
    "        MaxNumberOfMessages=10,\n",
    "        VisibilityTimeout=0,\n",
    "        WaitTimeSeconds=0\n",
    "    )    \n",
    "\n",
    "    if 'Messages' in response:\n",
    "        for message in response['Messages']:\n",
    "            message = response['Messages'][0]\n",
    "            body = json.loads(message['Body'])\n",
    "            print(message)\n",
    "\n",
    "            # Hash the device_id and ip for masking and duplicate identification\n",
    "            device_id = body.get('device_id', '19991')\n",
    "            ip = body.get('ip', '0.0.0.0')\n",
    "            masked_device_id = hashlib.md5(device_id.encode()).hexdigest()\n",
    "            masked_ip = hashlib.md5(ip.encode()).hexdigest()\n",
    "            print(masked_device_id)\n",
    "            print(masked_ip)\n",
    "\n",
    "            # Insert the masked data into user_logins table\n",
    "            with conn:\n",
    "                with conn.cursor() as cur:\n",
    "                    insert_query = \"\"\"\n",
    "                        INSERT INTO user_logins (user_id, device_type, masked_ip, masked_device_id, locale, app_version, create_date)\n",
    "                        VALUES (%s, %s, %s, %s, %s, %s, NOW())\n",
    "                    \"\"\"\n",
    "                    cur.execute(insert_query, (\n",
    "                        body['user_id'],\n",
    "                        body['device_type'],\n",
    "                        masked_ip,\n",
    "                        masked_device_id,\n",
    "                        body['locale'],\n",
    "                        int(body['app_version'].replace('.', '')) if body['app_version'] else None\n",
    "                    ))\n",
    "                    conn.commit()\n",
    "\n",
    "            # Delete the message from the queue after processing\n",
    "            sqs.delete_message(\n",
    "                QueueUrl=queue_url,\n",
    "                ReceiptHandle=message['ReceiptHandle']\n",
    "            )\n",
    "\n",
    "    else:\n",
    "        print('No messages in the queue')\n",
    "\n",
    "if __name__ == \"__main__\":\n",
    "    main()\n"
   ]
  },
  {
   "cell_type": "code",
   "execution_count": null,
   "id": "091db198",
   "metadata": {},
   "outputs": [],
   "source": []
  },
  {
   "cell_type": "code",
   "execution_count": null,
   "id": "25ab2539",
   "metadata": {},
   "outputs": [],
   "source": []
  }
 ],
 "metadata": {
  "kernelspec": {
   "display_name": "Python 3 (ipykernel)",
   "language": "python",
   "name": "python3"
  },
  "language_info": {
   "codemirror_mode": {
    "name": "ipython",
    "version": 3
   },
   "file_extension": ".py",
   "mimetype": "text/x-python",
   "name": "python",
   "nbconvert_exporter": "python",
   "pygments_lexer": "ipython3",
   "version": "3.9.13"
  }
 },
 "nbformat": 4,
 "nbformat_minor": 5
}
